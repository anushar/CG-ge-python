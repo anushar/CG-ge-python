{
 "cells": [
  {
   "cell_type": "code",
   "execution_count": 1,
   "metadata": {},
   "outputs": [
    {
     "name": "stderr",
     "output_type": "stream",
     "text": [
      "Using TensorFlow backend.\n",
      "/Users/anusha/anaconda3/lib/python3.6/site-packages/IPython/core/interactiveshell.py:3020: DtypeWarning: Columns (5) have mixed types. Specify dtype option on import or set low_memory=False.\n",
      "  interactivity=interactivity, compiler=compiler, result=result)\n"
     ]
    },
    {
     "data": {
      "text/plain": [
       "101"
      ]
     },
     "execution_count": 1,
     "metadata": {},
     "output_type": "execute_result"
    }
   ],
   "source": [
    "#Loading the libraries\n",
    "import tensorflow as tf\n",
    "import pandas as pd\n",
    "import numpy as np\n",
    "import matplotlib.pyplot as plt\n",
    "from math import sqrt\n",
    "from sklearn.metrics import mean_squared_error\n",
    "from keras.models import Sequential\n",
    "from keras.layers import Dense\n",
    "from keras.layers import Dropout   \n",
    "from keras.layers import LSTM\n",
    "from keras.layers.convolutional import Conv1D\n",
    "from keras.layers.convolutional import MaxPooling1D\n",
    "from sklearn.preprocessing import MinMaxScaler\n",
    "from keras import optimizers\n",
    "\n",
    "# Reading csv file\n",
    "#customers timeseries updated has data for 100 customers\n",
    "df = pd.read_csv(\"customers_timeseries_updated.csv\")\n",
    "#only using required columns for modelling\n",
    "df = df[['client_debtor_number','dates','fv_cost']]\n",
    "# number of unique customers in the data\n",
    "len(df['client_debtor_number'].unique())"
   ]
  },
  {
   "cell_type": "code",
   "execution_count": 2,
   "metadata": {},
   "outputs": [
    {
     "name": "stdout",
     "output_type": "stream",
     "text": [
      "[ 1015193  7370830  7806949  8459916  8119511  6860001  9890599  1434120\n",
      "  8069905  1385090  8131406  7945906  5744792  1810070  6400280  7411081\n",
      "  9982280  9934723  2062217  8056102  1186000  1136123  5851882  8600643\n",
      "  8436150  8191735  1431777  8485682  1563037 10005722  9346899  3494047\n",
      "  8665982  2134196  1119250  1069732  1934833  7983956  8097194  1215523\n",
      "  6185266  1979527  8056412  2267185  1139640  9574816  8276366  1674609\n",
      "  8529930  8223963  1595164  6524818  7987099  8206104  1345685  3447510\n",
      "  1167669  1146580  1773891  2069361  6769268  8186928  1411373  8380120\n",
      "  5045681  8690251  9895000 10005374  8285861  8491232  1351530  9706542\n",
      "  9977120  8392722  8468052  1931318  1233503  8542090  9049053  7322690\n",
      "  1140689  8369976  1532549  1555678  1571329  1620518  1595166  1645262\n",
      "  8344620  7530072  1080321  7819277  1462982  1881607  1895787  8367884\n",
      "  7772912  1172447  2034325  2063988  2053220]\n"
     ]
    }
   ],
   "source": [
    "print(df['client_debtor_number'].unique())"
   ]
  },
  {
   "cell_type": "code",
   "execution_count": 3,
   "metadata": {},
   "outputs": [
    {
     "name": "stderr",
     "output_type": "stream",
     "text": [
      "/Users/anusha/anaconda3/lib/python3.6/site-packages/ipykernel_launcher.py:15: SettingWithCopyWarning: \n",
      "A value is trying to be set on a copy of a slice from a DataFrame.\n",
      "Try using .loc[row_indexer,col_indexer] = value instead\n",
      "\n",
      "See the caveats in the documentation: http://pandas.pydata.org/pandas-docs/stable/indexing.html#indexing-view-versus-copy\n",
      "  from ipykernel import kernelapp as app\n",
      "/Users/anusha/anaconda3/lib/python3.6/site-packages/ipykernel_launcher.py:16: SettingWithCopyWarning: \n",
      "A value is trying to be set on a copy of a slice from a DataFrame\n",
      "\n",
      "See the caveats in the documentation: http://pandas.pydata.org/pandas-docs/stable/indexing.html#indexing-view-versus-copy\n",
      "  app.launch_new_instance()\n",
      "/Users/anusha/anaconda3/lib/python3.6/site-packages/ipykernel_launcher.py:17: SettingWithCopyWarning: \n",
      "A value is trying to be set on a copy of a slice from a DataFrame.\n",
      "Try using .loc[row_indexer,col_indexer] = value instead\n",
      "\n",
      "See the caveats in the documentation: http://pandas.pydata.org/pandas-docs/stable/indexing.html#indexing-view-versus-copy\n",
      "/Users/anusha/anaconda3/lib/python3.6/site-packages/ipykernel_launcher.py:18: SettingWithCopyWarning: \n",
      "A value is trying to be set on a copy of a slice from a DataFrame\n",
      "\n",
      "See the caveats in the documentation: http://pandas.pydata.org/pandas-docs/stable/indexing.html#indexing-view-versus-copy\n"
     ]
    }
   ],
   "source": [
    "# subsetting one customer data from the set\n",
    "# 1015193\n",
    "df_1015130 = df[df['client_debtor_number'] == 7370830]\n",
    "del df_1015130['client_debtor_number']\n",
    "\n",
    "# splitting train and test datasets \n",
    "#training 2010-2017, testing on 2018 data\\\n",
    "train_x = df_1015130[df_1015130['dates'].str.contains('/2018') == False]\n",
    "test_x = df_1015130[df_1015130['dates'].str.contains('/2018') == True]\n",
    "#resetting index values\n",
    "train_x.reset_index(drop=True,inplace=True)\n",
    "test_x.reset_index(drop=True,inplace=True)\n",
    "\n",
    "#sorting data based on dates\n",
    "train_x['dates'] = pd.to_datetime(train_x['dates'],format= '%d/%m/%Y')\n",
    "train_x.sort_values(by='dates',inplace=True)\n",
    "test_x['dates'] = pd.to_datetime(test_x['dates'],format= '%d/%m/%Y')\n",
    "test_x.sort_values(by='dates',inplace=True)\n"
   ]
  },
  {
   "cell_type": "code",
   "execution_count": 4,
   "metadata": {},
   "outputs": [
    {
     "name": "stdout",
     "output_type": "stream",
     "text": [
      "(2929, 1, 3)\n",
      "(2929,)\n"
     ]
    },
    {
     "name": "stderr",
     "output_type": "stream",
     "text": [
      "/Users/anusha/anaconda3/lib/python3.6/site-packages/ipykernel_launcher.py:23: FutureWarning: reshape is deprecated and will raise in a subsequent release. Please use .values.reshape(...) instead\n"
     ]
    }
   ],
   "source": [
    "# lag_feature function is used to get new column in the dataframe with \n",
    "#lagged data,number of lags can be given as function parameter \n",
    "def lag_feature(df, lag=1):\n",
    "    if not type(df) == pd.DataFrame:\n",
    "        df = pd.DataFrame(df, columns=['fv_cost'])   \n",
    "    def rename_lag(ser, j):\n",
    "        ser.name = ser.name + f'_{j}'\n",
    "        return ser        \n",
    "    # add a column lagged by `i` steps\n",
    "    for i in range(1, lag + 1):\n",
    "        df = df.join(df.fv_cost.shift(i).pipe(rename_lag, i))\n",
    "    df.dropna(inplace=True)\n",
    "    return df\n",
    "\n",
    "# Prepare training data function is used to scale the fv_cost values \n",
    "# between -1 to 1 and calls lag_feature to create lag columns \n",
    "def prepare_training_data(series_data, lag):\n",
    "    \" Converts a series of data into a lagged, scaled sample.\"\n",
    "    # scale training data\n",
    "    scaler = MinMaxScaler(feature_range=(-1, 1))\n",
    "    #when diff is used don't use values\n",
    "    #cost_vals = scaler.fit_transform(series_data.values.reshape(-1, 1))   \n",
    "    cost_vals = scaler.fit_transform(series_data.reshape(-1, 1))\n",
    "    # convert series to lagged features\n",
    "    cost_lagged = lag_feature(cost_vals, lag=lag)\n",
    "    # X, y format taking the first column (original time series) to be the y\n",
    "    X = cost_lagged.drop('fv_cost', axis=1).values\n",
    "    y = cost_lagged.fv_cost.values\n",
    "    \n",
    "    # keras expects 3 dimensional X\n",
    "    X = X.reshape(X.shape[0], 1, X.shape[1])   \n",
    "    return X, y, scaler\n",
    "\n",
    "#Difference function is get lag difference values\n",
    "def difference(dataset):\n",
    "    interval=1\n",
    "    diff = list()\n",
    "    for i in range(interval, len(dataset)):\n",
    "        #print (\"iteration \",i)\n",
    "        value = (dataset.iloc[i] - dataset.iloc[i - interval])/(1+abs(dataset.iloc[i - interval]))\n",
    "        diff.append(value)\n",
    "    return diff\n",
    "\n",
    "# if you are using difference lag values use this code\n",
    "#diff_train = np.array(difference(train_x['fv_cost']))\n",
    "#diff_test = np.array(difference(test_x['fv_cost']))\n",
    "#train_x_cust,train_y_cust, scalar_train = prepare_training_data(diff_train, 3)\n",
    "#test_x_cust,test_y_cust,scalar_test = prepare_training_data(diff_test, 3)\n",
    "# preparing data on train and test fv_cost column values\n",
    "train_x_cust,train_y_cust, scalar_train = prepare_training_data(train_x['fv_cost'], 3)\n",
    "test_x_cust,test_y_cust,scalar_test = prepare_training_data(test_x['fv_cost'], 3)\n",
    "print(train_x_cust.shape)\n",
    "print(train_y_cust.shape)\n"
   ]
  },
  {
   "cell_type": "code",
   "execution_count": null,
   "metadata": {},
   "outputs": [
    {
     "data": {
      "text/plain": [
       "array([ 0.        ,  0.        ,  0.        , ..., 15.78374772,\n",
       "       17.54404341, 19.30457443])"
      ]
     },
     "execution_count": 5,
     "metadata": {},
     "output_type": "execute_result"
    }
   ],
   "source": [
    "# Create lag features of output/y value to use in future\n",
    "actual_cost_lag_2 = lag_feature(df_1015130['fv_cost'],2)\n",
    "actual_cost_lag_2 = actual_cost_lag_2.fv_cost.values\n",
    "actual_cost_lag_2"
   ]
  },
  {
   "cell_type": "code",
   "execution_count": null,
   "metadata": {},
   "outputs": [],
   "source": [
    "# Predictions for one timestep\n",
    "def lstm_model(train_x, train_y,lag=3,num_neurons=50):\n",
    "    # Model description\n",
    "    # lag is number of lags used to prepare the data\n",
    "    #lag =  3\n",
    "    # model parameters\n",
    "    #num_neurons = 50 #number of neurons/nodes for the layer\n",
    "    # actually we can give data in batches to the model\n",
    "    # number of samples in the data should be divisible by batch size\n",
    "    # we are giving all data for a customer as one batch\n",
    "    batch_size = 1  \n",
    "    # input_shape as required by LSTM layer\n",
    "    batch_input_shape=(batch_size, 1, lag)\n",
    "    # dropout rate used in dropout layer\n",
    "    dropout_rate =0.2\n",
    "    # instantiate a sequential model\n",
    "    model = Sequential()\n",
    "    #add convolution layer\n",
    "    # input_shape=(3,1) 3 lags columns and 1 y value\n",
    "    # when strides>1 you cannot have dilation>1\n",
    "    # activation_func options ['softmax', 'softplus', 'softsign', 'relu', \n",
    "    #                   'tanh', 'sigmoid', 'hard_sigmoid', 'linear']\n",
    "    # in conv1D layer we can modify filters,kernel_size,strides and activation\n",
    "    # parameters\n",
    "    model.add(Conv1D(filters=num_neurons,batch_size=1, kernel_size=3, strides=3, \n",
    "                 padding=\"same\",activation='linear',dilation_rate=1, \n",
    "                 input_shape=(1, 3),data_format='channels_first'))\n",
    "    # maxpooling layers tries to reduce the features by taking maximum value for\n",
    "    # window/pool size selected,strides and pool_size can be changed\n",
    "    model.add(MaxPooling1D(pool_size=3,strides=3, padding=\"same\"))\n",
    "    model.add(Dropout(dropout_rate))\n",
    "    # add LSTM layer - stateful MUST be true here in \n",
    "    # order to learn the patterns within a series\n",
    "    model.add(LSTM(units=num_neurons, \n",
    "              batch_input_shape=batch_input_shape, return_sequences=False,# as we only want last hidden output \n",
    "              stateful=True))\n",
    "    # output layer\n",
    "    model.add(Dense(1,activation='linear'))\n",
    "    # compile the model with required loss and optimizer function\n",
    "    adam = optimizers.Adam(lr=0.01, decay=0.01)\n",
    "    model.compile(loss='mean_squared_error', optimizer=adam)\n",
    "    model.fit(train_x, train_y, epochs=10, batch_size=batch_size, verbose=2, shuffle=False)\n",
    "    return model"
   ]
  },
  {
   "cell_type": "code",
   "execution_count": null,
   "metadata": {},
   "outputs": [
    {
     "name": "stdout",
     "output_type": "stream",
     "text": [
      "Epoch 1/10\n",
      " - 32s - loss: 0.0078\n",
      "Epoch 2/10\n",
      " - 33s - loss: 0.0074\n",
      "Epoch 3/10\n",
      " - 32s - loss: 0.0054\n",
      "Epoch 4/10\n",
      " - 33s - loss: 0.0044\n",
      "Epoch 5/10\n",
      " - 35s - loss: 0.0041\n",
      "Epoch 6/10\n"
     ]
    }
   ],
   "source": [
    "model = lstm_model(train_x_cust,train_y_cust,3,50)"
   ]
  },
  {
   "cell_type": "code",
   "execution_count": null,
   "metadata": {},
   "outputs": [],
   "source": [
    "#predicitons on test data\n",
    "predictions_1 = model.predict(test_x_cust,batch_size=1)"
   ]
  },
  {
   "cell_type": "code",
   "execution_count": null,
   "metadata": {},
   "outputs": [],
   "source": [
    "#find 1lag of test_y_cust for comparision\n",
    "test_y_lag1 = lag_feature(test_y_cust,1).fv_cost.values\n",
    "test_y_lag1"
   ]
  },
  {
   "cell_type": "code",
   "execution_count": null,
   "metadata": {},
   "outputs": [],
   "source": [
    "#split predictions into train and test\n",
    "pred_train = predictions_1[0:-90]\n",
    "pred_test = predictions_1[90:]\n"
   ]
  },
  {
   "cell_type": "code",
   "execution_count": null,
   "metadata": {},
   "outputs": [],
   "source": [
    "# model on predictions\n",
    "train_x_cust,train_y_cust, scalar_train = prepare_training_data(pred_train, 3)\n",
    "test_x_cust,test_y_cust,scalar_test = prepare_training_data(pred_test, 3)\n",
    "\n",
    "model_pred = lstm_model(train_x_cust,train_y_cust,3,50)\n"
   ]
  },
  {
   "cell_type": "code",
   "execution_count": null,
   "metadata": {},
   "outputs": [],
   "source": [
    "#compare second step predictions with original scaled test y values\n",
    "pred_2 = model.predict(test_x_cust,batch_size=1)"
   ]
  },
  {
   "cell_type": "code",
   "execution_count": null,
   "metadata": {},
   "outputs": [],
   "source": [
    "# rmse error with predictions and actual values\n",
    "#sqrt\n",
    "(mean_squared_error(test_y_lag1[-(len(pred_2)):],pred_2))"
   ]
  },
  {
   "cell_type": "code",
   "execution_count": null,
   "metadata": {},
   "outputs": [],
   "source": [
    "# predictions iteratively\n",
    "# fv cost rest_index and sort values\n",
    "df_1015130.reset_index(drop=True,inplace=True)\n",
    "#sorting data based on dates\n",
    "df_1015130['dates'] = pd.to_datetime(df_1015130['dates'],format= '%d/%m/%Y')\n",
    "df_1015130.sort_values(by='dates',inplace=True)\n",
    "print (df_1015130.dates)\n",
    "\n",
    "    "
   ]
  },
  {
   "cell_type": "code",
   "execution_count": null,
   "metadata": {},
   "outputs": [],
   "source": [
    "# we can change training window months later\n",
    "train_6m = df_1015130[(df_1015130['dates'].dt.year == 2018) & \n",
    "                      ~((df_1015130['dates'].dt.month == 7)|\n",
    "                      (df_1015130['dates'].dt.month == 8)|\n",
    "                      (df_1015130['dates'].dt.month == 9))]\n",
    "window_test_3m = df_1015130[(df_1015130['dates'].dt.year == 2018) &\n",
    "                            ((df_1015130['dates'].dt.month == 7)|\n",
    "                            (df_1015130['dates'].dt.month == 8)|\n",
    "                            (df_1015130['dates'].dt.month == 9))]\n",
    "\n",
    "print (train_6m)\n",
    "print (window_test_3m)\n",
    "#for i in range(0,4):\n",
    "    "
   ]
  },
  {
   "cell_type": "code",
   "execution_count": null,
   "metadata": {},
   "outputs": [],
   "source": [
    "#iteratively run the model on predicitons\n",
    "data_train = train_6m['fv_cost']\n",
    "data_train.reset_index(drop=True,inplace=True)\n",
    "train_x_cust,train_y_cust, scalar_train = prepare_training_data(data_train, 3)\n",
    "pred_train = model.predict(train_x_cust,batch_size=1)\n",
    "\n",
    "test_fvcost = window_test_3m['fv_cost']\n",
    "test_fvcost.reset_index(drop=True,inplace=True)\n",
    "test_x_cust,test_y_cust,scalar_test = prepare_training_data(test_fvcost,3)\n",
    "test_pred = model.predict(test_x_cust,batch_size=1)\n",
    "#since input should be in 3 lag format\n",
    "pred_test = np.vstack([pred_train[-3:],test_pred[1]]) \n",
    "\n",
    "n=120\n",
    "error_list = []\n",
    "for i in range(1,n):\n",
    "    train_x_cust,train_y_cust, scalar_train = prepare_training_data(pred_train, 3)\n",
    "    test_x_cust,test_y_cust,scalar_test = prepare_training_data(pred_test, 3)\n",
    "    model_pred = lstm_model(train_x_cust,train_y_cust,3,50)\n",
    "    pred_2 = model.predict(test_x_cust,batch_size=1)\n",
    "    error_list.append(mean_squared_error(test_y_cust,pred_2))\n",
    "    print(\"Error at iteration \",i,mean_squared_error(test_y_cust,pred_2))\n",
    "    #update train and test datasets\n",
    "    pred_train=np.vstack([pred_train[i:],pred_test])\n",
    "    pred_test = np.vstack([pred_train[-3:],pred_2]) #input need to have 3 lags\n",
    "    print (\"prediction at \",i,pred_2)\n",
    "      "
   ]
  },
  {
   "cell_type": "code",
   "execution_count": null,
   "metadata": {},
   "outputs": [],
   "source": [
    "import matplotlib.pyplot as plt\n",
    "plt.plot(error_list)\n",
    "plt.ylabel('error')\n",
    "plt.show()"
   ]
  },
  {
   "cell_type": "code",
   "execution_count": null,
   "metadata": {},
   "outputs": [],
   "source": [
    "# loop for number of days with error < 0.5\n",
    "count = 0\n",
    "error_df = pd.DataFrame()\n",
    "for i in range(len(error_list)):\n",
    "    if(error_list[i] < 0.5):\n",
    "        error_df['iteration'] = i\n",
    "        error_df['error'] = error_list[i]\n",
    "        count = count+1\n",
    "    \n",
    "print(\"count\",count)\n",
    "print(\"length of error\",len(error_df))\n",
    "print(\"length of errorlist\", len(error_list))"
   ]
  },
  {
   "cell_type": "code",
   "execution_count": null,
   "metadata": {},
   "outputs": [],
   "source": [
    "#try with epochs,iterations and different train ,test sample sizes"
   ]
  },
  {
   "cell_type": "code",
   "execution_count": null,
   "metadata": {},
   "outputs": [],
   "source": [
    "%%time\n",
    "# Loop over all customers\n",
    "for cust in df['client_debtor_number'].unique():\n",
    "    df_cust = df[df['client_debtor_number'] == cust]\n",
    "    del df_cust['client_debtor_number']\n",
    "    df_cust['dates'] = pd.to_datetime(df_cust['dates'],format= '%d/%m/%Y')\n",
    "    # splitting train and test datasets \n",
    "    #training 2010-2017, testing on 2018 data\\\n",
    "    train_x = df_cust[df_cust['dates'].dt.year == 2018]\n",
    "    test_x = df_cust[~(df_cust['dates'].dt.year == 2018)]\n",
    "    #resetting index values\n",
    "    train_x.reset_index(drop=True,inplace=True)\n",
    "    test_x.reset_index(drop=True,inplace=True)\n",
    "    #sorting data based on dates\n",
    "    train_x['dates'] = pd.to_datetime(train_x['dates'],format= '%d/%m/%Y')\n",
    "    train_x.sort_values(by='dates',inplace=True)\n",
    "    test_x['dates'] = pd.to_datetime(test_x['dates'],format= '%d/%m/%Y')\n",
    "    test_x.sort_values(by='dates',inplace=True)\n",
    "    # preparing data on train and test fv_cost column values\n",
    "    train_x_cust,train_y_cust, scalar_train = prepare_training_data(train_x['fv_cost'], 3)\n",
    "    test_x_cust,test_y_cust,scalar_test = prepare_training_data(test_x['fv_cost'], 3)\n",
    "    model = lstm_model(train_x_cust,train_y_cust,3,50)\n",
    "    # we can change training window months later\n",
    "    train_6m = df_cust[(df_cust['dates'].dt.year == 2018) & \n",
    "                      ~((df_cust['dates'].dt.month == 7)|\n",
    "                      (df_cust['dates'].dt.month == 8)|\n",
    "                      (df_cust['dates'].dt.month == 9))]\n",
    "    window_test_3m = df_cust[(df_cust['dates'].dt.year == 2018) &\n",
    "                            ((df_cust['dates'].dt.month == 7)|\n",
    "                            (df_cust['dates'].dt.month == 8)|\n",
    "                            (df_cust['dates'].dt.month == 9))]\n",
    "    #iteratively run the model on predicitons\n",
    "    data_train = train_6m['fv_cost']\n",
    "    data_train.reset_index(drop=True,inplace=True)\n",
    "    train_x_cust,train_y_cust, scalar_train = prepare_training_data(data_train, 3)\n",
    "    pred_train = model.predict(train_x_cust,batch_size=1)\n",
    "    test_fvcost = window_test_3m['fv_cost']\n",
    "    test_fvcost.reset_index(drop=True,inplace=True)\n",
    "    test_x_cust,test_y_cust,scalar_test = prepare_training_data(test_fvcost,3)\n",
    "    test_pred = model.predict(test_x_cust,batch_size=1)\n",
    "    #since input should be in 3 lag format\n",
    "    pred_test = np.vstack([pred_train[-3:],test_pred[1]]) \n",
    "    n=120\n",
    "    error_list = []\n",
    "    error_df = pd.DataFrame()\n",
    "    for i in range(1,n):\n",
    "        train_x_cust,train_y_cust, scalar_train = prepare_training_data(pred_train, 3)\n",
    "        test_x_cust,test_y_cust,scalar_test = prepare_training_data(pred_test, 3)\n",
    "        model_pred = lstm_model(train_x_cust,train_y_cust,3,50)\n",
    "        pred_2 = model.predict(test_x_cust,batch_size=1)\n",
    "        error_list.append(mean_squared_error(test_y_cust,pred_2))\n",
    "        error_df['iteration'] = i\n",
    "        error_df['error'] = mean_squared_error(test_y_cust,pred_2)\n",
    "        error_df['client_number'] = cust\n",
    "        print(\"Error at iteration \",i,mean_squared_error(test_y_cust,pred_2))\n",
    "        #update train and test datasets\n",
    "        pred_train=np.vstack([pred_train[i:],pred_test])\n",
    "        pred_test = np.vstack([pred_train[-3:],pred_2]) #input need to have 3 lags\n",
    "        print (\"prediction at \",i,pred_2)\n",
    "    print(\"completed loop for customer \",cust)\n"
   ]
  },
  {
   "cell_type": "code",
   "execution_count": null,
   "metadata": {},
   "outputs": [],
   "source": [
    "# create dataframe with error values <0.1,0.001 and 0.5\n",
    "error_df.to_csv(\"predictions_for_client_120daysAhead.csv\")  "
   ]
  },
  {
   "cell_type": "code",
   "execution_count": 4,
   "metadata": {},
   "outputs": [
    {
     "data": {
      "text/html": [
       "<div>\n",
       "<style scoped>\n",
       "    .dataframe tbody tr th:only-of-type {\n",
       "        vertical-align: middle;\n",
       "    }\n",
       "\n",
       "    .dataframe tbody tr th {\n",
       "        vertical-align: top;\n",
       "    }\n",
       "\n",
       "    .dataframe thead th {\n",
       "        text-align: right;\n",
       "    }\n",
       "</style>\n",
       "<table border=\"1\" class=\"dataframe\">\n",
       "  <thead>\n",
       "    <tr style=\"text-align: right;\">\n",
       "      <th></th>\n",
       "      <th>client_debtor_number</th>\n",
       "      <th>dates</th>\n",
       "      <th>fv_cost</th>\n",
       "    </tr>\n",
       "  </thead>\n",
       "  <tbody>\n",
       "    <tr>\n",
       "      <th>0</th>\n",
       "      <td>1015193</td>\n",
       "      <td>10/07/2010</td>\n",
       "      <td>0.0</td>\n",
       "    </tr>\n",
       "    <tr>\n",
       "      <th>1</th>\n",
       "      <td>1015193</td>\n",
       "      <td>11/07/2010</td>\n",
       "      <td>0.0</td>\n",
       "    </tr>\n",
       "    <tr>\n",
       "      <th>2</th>\n",
       "      <td>1015193</td>\n",
       "      <td>12/07/2010</td>\n",
       "      <td>0.0</td>\n",
       "    </tr>\n",
       "    <tr>\n",
       "      <th>3</th>\n",
       "      <td>1015193</td>\n",
       "      <td>13/07/2010</td>\n",
       "      <td>0.0</td>\n",
       "    </tr>\n",
       "    <tr>\n",
       "      <th>4</th>\n",
       "      <td>1015193</td>\n",
       "      <td>14/07/2010</td>\n",
       "      <td>0.0</td>\n",
       "    </tr>\n",
       "  </tbody>\n",
       "</table>\n",
       "</div>"
      ],
      "text/plain": [
       "   client_debtor_number       dates  fv_cost\n",
       "0               1015193  10/07/2010      0.0\n",
       "1               1015193  11/07/2010      0.0\n",
       "2               1015193  12/07/2010      0.0\n",
       "3               1015193  13/07/2010      0.0\n",
       "4               1015193  14/07/2010      0.0"
      ]
     },
     "execution_count": 4,
     "metadata": {},
     "output_type": "execute_result"
    }
   ],
   "source": [
    "df.head()"
   ]
  },
  {
   "cell_type": "code",
   "execution_count": 18,
   "metadata": {},
   "outputs": [
    {
     "name": "stdout",
     "output_type": "stream",
     "text": [
      "dates                 01/01/2010  01/01/2011  01/01/2012  01/01/2013  \\\n",
      "client_debtor_number                                                   \n",
      "1015193                      0.0         0.0         0.0         0.0   \n",
      "1069732                      0.0         0.0         0.0         0.0   \n",
      "1080321                      0.0         0.0         0.0         0.0   \n",
      "1119250                      0.0         0.0         0.0         0.0   \n",
      "1136123                      0.0         0.0         0.0         0.0   \n",
      "\n",
      "dates                 01/01/2014  01/01/2015  01/01/2016  01/01/2017  \\\n",
      "client_debtor_number                                                   \n",
      "1015193                      0.0   10.038345  541.620754  171.863639   \n",
      "1069732                      0.0    0.000000    0.000000    0.000000   \n",
      "1080321                      0.0    0.000000    0.000000    0.000000   \n",
      "1119250                      0.0    0.000000    0.000000    0.000000   \n",
      "1136123                      0.0    0.000000    3.133835   -2.655382   \n",
      "\n",
      "dates                 01/01/2018  01/02/2010     ...      31/10/2016  \\\n",
      "client_debtor_number                             ...                   \n",
      "1015193               392.131466         0.0     ...      134.313206   \n",
      "1069732                 0.000000         0.0     ...        0.000000   \n",
      "1080321                 0.000000         0.0     ...        0.000000   \n",
      "1119250                 0.000000         0.0     ...        0.000000   \n",
      "1136123               -18.876382         0.0     ...        0.000000   \n",
      "\n",
      "dates                 31/10/2017  31/12/2010  31/12/2011  31/12/2012  \\\n",
      "client_debtor_number                                                   \n",
      "1015193               263.473737         0.0         0.0         0.0   \n",
      "1069732                 0.000000         0.0         0.0         0.0   \n",
      "1080321                 0.000000         0.0         0.0         0.0   \n",
      "1119250                 0.000000         0.0         0.0         0.0   \n",
      "1136123                 0.000000         0.0         0.0         0.0   \n",
      "\n",
      "dates                 31/12/2013  31/12/2014  31/12/2015  31/12/2016  \\\n",
      "client_debtor_number                                                   \n",
      "1015193                      0.0     10.0551  540.320451  170.023487   \n",
      "1069732                      0.0      0.0000    0.000000    0.000000   \n",
      "1080321                      0.0      0.0000    0.000000    0.000000   \n",
      "1119250                      0.0      0.0000    0.000000    0.000000   \n",
      "1136123                      0.0      0.0000    2.611355   -2.896586   \n",
      "\n",
      "dates                 31/12/2017  \n",
      "client_debtor_number              \n",
      "1015193               388.717815  \n",
      "1069732                 0.000000  \n",
      "1080321                 0.000000  \n",
      "1119250                 0.000000  \n",
      "1136123               -19.630126  \n",
      "\n",
      "[5 rows x 3192 columns]\n"
     ]
    }
   ],
   "source": [
    "# cluster error_data customers dataframe\n",
    "#Transform\n",
    "pivot_data = df.pivot_table(index='client_debtor_number',\n",
    "                      columns='dates',values='fv_cost',aggfunc='mean')\n",
    "print(pivot_data.head())\n",
    "\n",
    "from sklearn.cluster import KMeans\n",
    "kmeans = KMeans(n_clusters=3, random_state=0).fit(pivot_data)"
   ]
  },
  {
   "cell_type": "code",
   "execution_count": 17,
   "metadata": {},
   "outputs": [
    {
     "data": {
      "text/plain": [
       "<bound method KMeans.score of KMeans(algorithm='auto', copy_x=True, init='k-means++', max_iter=300,\n",
       "    n_clusters=2, n_init=10, n_jobs=1, precompute_distances='auto',\n",
       "    random_state=0, tol=0.0001, verbose=0)>"
      ]
     },
     "execution_count": 17,
     "metadata": {},
     "output_type": "execute_result"
    }
   ],
   "source": [
    "kmeans.score"
   ]
  },
  {
   "cell_type": "code",
   "execution_count": 23,
   "metadata": {},
   "outputs": [
    {
     "data": {
      "image/png": "[encoded data removed]",
      "text/plain": [
       "<matplotlib.figure.Figure at 0x1a25633b00>"
      ]
     },
     "metadata": {
      "needs_background": "light"
     },
     "output_type": "display_data"
    }
   ],
   "source": [
    "#elbow graph\n",
    "from sklearn.metrics import silhouette_score\n",
    "sse = {}\n",
    "for k in range(1, 20):\n",
    "    kmeans = KMeans(n_clusters=k, max_iter=1000).fit(pivot_data)\n",
    "    #print(data[\"clusters\"])\n",
    "   # sil_coeff = silhouette_score(pivot_data, kmeans.labels_, metric='euclidean')\n",
    "    pivot_data[\"clusters\"] = kmeans.labels_\n",
    "    #print(\"For n_clusters={}, The Silhouette Coefficient is {}\".format(k, sil_coeff))\n",
    "    sse[k] = kmeans.inertia_ # Inertia: Sum of distances of samples to their closest cluster center\n",
    "plt.figure()\n",
    "plt.plot(list(sse.keys()), list(sse.values()))\n",
    "plt.xlabel(\"Number of cluster\")\n",
    "plt.ylabel(\"SSE\")\n",
    "plt.show()"
   ]
  },
  {
   "cell_type": "code",
   "execution_count": null,
   "metadata": {},
   "outputs": [],
   "source": []
  }
 ],
 "metadata": {
  "kernelspec": {
   "display_name": "Python 3",
   "language": "python",
   "name": "python3"
  },
  "language_info": {
   "codemirror_mode": {
    "name": "ipython",
    "version": 3
   },
   "file_extension": ".py",
   "mimetype": "text/x-python",
   "name": "python",
   "nbconvert_exporter": "python",
   "pygments_lexer": "ipython3",
   "version": "3.6.6"
  }
 },
 "nbformat": 4,
 "nbformat_minor": 2
}
